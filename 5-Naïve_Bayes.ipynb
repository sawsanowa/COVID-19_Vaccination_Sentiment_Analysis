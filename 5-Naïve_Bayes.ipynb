{
  "nbformat": 4,
  "nbformat_minor": 0,
  "metadata": {
    "colab": {
      "name": "Naïve Bayes",
      "provenance": [],
      "authorship_tag": "ABX9TyNHrd89o+rGEQ8Qh4/RZeU5",
      "include_colab_link": true
    },
    "kernelspec": {
      "name": "python3",
      "display_name": "Python 3"
    },
    "language_info": {
      "name": "python"
    }
  },
  "cells": [
    {
      "cell_type": "markdown",
      "metadata": {
        "id": "view-in-github",
        "colab_type": "text"
      },
      "source": [
        "<a href=\"https://colab.research.google.com/github/sawsanowa/COVID-19_Vaccination_Sentiment_Analysis/blob/main/Na%C3%AFve_Bayes.ipynb\" target=\"_parent\"><img src=\"https://colab.research.google.com/assets/colab-badge.svg\" alt=\"Open In Colab\"/></a>"
      ]
    },
    {
      "cell_type": "code",
      "metadata": {
        "id": "RYuqpmBl94oO"
      },
      "source": [
        "from sklearn.model_selection import train_test_split\n",
        "from keras.preprocessing.text import Tokenizer\n",
        "from keras.utils.np_utils import to_categorical\n",
        "from sklearn.preprocessing import LabelEncoder\n"
      ],
      "execution_count": null,
      "outputs": []
    },
    {
      "cell_type": "code",
      "metadata": {
        "id": "wp14f1QXBe-1"
      },
      "source": [
        "import pandas as pd"
      ],
      "execution_count": null,
      "outputs": []
    },
    {
      "cell_type": "code",
      "metadata": {
        "id": "q5UUiyaD97Uh"
      },
      "source": [
        "data =pd.read_csv('/content/Final_ALL_Labled_012.csv', encoding='utf-8', usecols=['sentiment', 'full_text'])"
      ],
      "execution_count": null,
      "outputs": []
    },
    {
      "cell_type": "code",
      "metadata": {
        "colab": {
          "base_uri": "https://localhost:8080/",
          "height": 202
        },
        "id": "8hm9_XAF4w5m",
        "outputId": "ca22ce9c-a242-403e-965a-51d6ce74ecad"
      },
      "source": [
        "data.head()"
      ],
      "execution_count": null,
      "outputs": [
        {
          "output_type": "execute_result",
          "data": {
            "text/html": [
              "<div>\n",
              "<style scoped>\n",
              "    .dataframe tbody tr th:only-of-type {\n",
              "        vertical-align: middle;\n",
              "    }\n",
              "\n",
              "    .dataframe tbody tr th {\n",
              "        vertical-align: top;\n",
              "    }\n",
              "\n",
              "    .dataframe thead th {\n",
              "        text-align: right;\n",
              "    }\n",
              "</style>\n",
              "<table border=\"1\" class=\"dataframe\">\n",
              "  <thead>\n",
              "    <tr style=\"text-align: right;\">\n",
              "      <th></th>\n",
              "      <th>sentiment</th>\n",
              "      <th>full_text</th>\n",
              "    </tr>\n",
              "  </thead>\n",
              "  <tbody>\n",
              "    <tr>\n",
              "      <th>0</th>\n",
              "      <td>1</td>\n",
              "      <td>بفضل الله قبل قليل وخلال ٩ دقاءق فقط اخذت لقاح...</td>\n",
              "    </tr>\n",
              "    <tr>\n",
              "      <th>1</th>\n",
              "      <td>0</td>\n",
              "      <td>لقاح كورونا اليوم مابدت الاعراض الا بعد ساعه م...</td>\n",
              "    </tr>\n",
              "    <tr>\n",
              "      <th>2</th>\n",
              "      <td>1</td>\n",
              "      <td>قبل موعد اخذي الجرعه الاولي من لقاح كورونا ظهر...</td>\n",
              "    </tr>\n",
              "    <tr>\n",
              "      <th>3</th>\n",
              "      <td>1</td>\n",
              "      <td>وخذينا الجرعه الاولي الحمدلله لقاح كورونا</td>\n",
              "    </tr>\n",
              "    <tr>\n",
              "      <th>4</th>\n",
              "      <td>1</td>\n",
              "      <td>اليوم اخذت الجرعه الاولي من لقاح كورونا عن طري...</td>\n",
              "    </tr>\n",
              "  </tbody>\n",
              "</table>\n",
              "</div>"
            ],
            "text/plain": [
              "   sentiment                                          full_text\n",
              "0          1  بفضل الله قبل قليل وخلال ٩ دقاءق فقط اخذت لقاح...\n",
              "1          0  لقاح كورونا اليوم مابدت الاعراض الا بعد ساعه م...\n",
              "2          1  قبل موعد اخذي الجرعه الاولي من لقاح كورونا ظهر...\n",
              "3          1          وخذينا الجرعه الاولي الحمدلله لقاح كورونا\n",
              "4          1  اليوم اخذت الجرعه الاولي من لقاح كورونا عن طري..."
            ]
          },
          "metadata": {
            "tags": []
          },
          "execution_count": 111
        }
      ]
    },
    {
      "cell_type": "code",
      "metadata": {
        "colab": {
          "base_uri": "https://localhost:8080/"
        },
        "id": "Qk82Vfd843QI",
        "outputId": "da2eae3c-53bb-4be4-bcab-d2fbff852765"
      },
      "source": [
        "data.sentiment.value_counts()"
      ],
      "execution_count": null,
      "outputs": [
        {
          "output_type": "execute_result",
          "data": {
            "text/plain": [
              "1    727\n",
              "2    280\n",
              "0    116\n",
              "Name: sentiment, dtype: int64"
            ]
          },
          "metadata": {
            "tags": []
          },
          "execution_count": 112
        }
      ]
    },
    {
      "cell_type": "code",
      "metadata": {
        "colab": {
          "base_uri": "https://localhost:8080/"
        },
        "id": "nUTmTly599sl",
        "outputId": "7503c96c-caf8-43b8-e846-589d244f7084"
      },
      "source": [
        "from sklearn.model_selection import train_test_split\n",
        "\n",
        "X = data.full_text\n",
        "y = data.sentiment\n",
        "\n",
        "X_train, X_test, y_train, y_test = train_test_split(X, y, test_size=0.2)\n",
        "X_train.head()"
      ],
      "execution_count": null,
      "outputs": [
        {
          "output_type": "execute_result",
          "data": {
            "text/plain": [
              "289    الي قعد يسوقون حق التطعيم اكثر من المطعمين نفس...\n",
              "353    لقاح كورونا بعضهم كبير يصور وهو ياخذ القاح ويق...\n",
              "233    غير صحيح مايسجلون لك لقاح كورونا يقولون سجل في...\n",
              "95     اللهم لك الحمد لقاح كورونا الله ينفع به الجميع...\n",
              "406    الحمد لله علي نعمه و فضله طعمت اليوم لقاح كورو...\n",
              "Name: full_text, dtype: object"
            ]
          },
          "metadata": {
            "tags": []
          },
          "execution_count": 114
        }
      ]
    },
    {
      "cell_type": "code",
      "metadata": {
        "colab": {
          "base_uri": "https://localhost:8080/"
        },
        "id": "YKHOtmg-5Ees",
        "outputId": "99167657-aadc-4522-9d5a-482490753b30"
      },
      "source": [
        "len(X_test)"
      ],
      "execution_count": null,
      "outputs": [
        {
          "output_type": "execute_result",
          "data": {
            "text/plain": [
              "225"
            ]
          },
          "metadata": {
            "tags": []
          },
          "execution_count": 115
        }
      ]
    },
    {
      "cell_type": "code",
      "metadata": {
        "colab": {
          "base_uri": "https://localhost:8080/"
        },
        "id": "C6HZ1BH-5Fwm",
        "outputId": "cd0b1f1f-a6d8-4520-b8f1-9fb212ba487b"
      },
      "source": [
        "y_train.value_counts()"
      ],
      "execution_count": null,
      "outputs": [
        {
          "output_type": "execute_result",
          "data": {
            "text/plain": [
              "1    576\n",
              "2    221\n",
              "0    101\n",
              "Name: sentiment, dtype: int64"
            ]
          },
          "metadata": {
            "tags": []
          },
          "execution_count": 116
        }
      ]
    },
    {
      "cell_type": "code",
      "metadata": {
        "colab": {
          "base_uri": "https://localhost:8080/"
        },
        "id": "Ag-Lv5Am5KVR",
        "outputId": "84c806d1-c5f1-4a32-c098-c11c32fc650b"
      },
      "source": [
        "y_test.value_counts()"
      ],
      "execution_count": null,
      "outputs": [
        {
          "output_type": "execute_result",
          "data": {
            "text/plain": [
              "1    151\n",
              "2     59\n",
              "0     15\n",
              "Name: sentiment, dtype: int64"
            ]
          },
          "metadata": {
            "tags": []
          },
          "execution_count": 117
        }
      ]
    },
    {
      "cell_type": "code",
      "metadata": {
        "id": "TXVwl-tL5yty"
      },
      "source": [
        "import sys, os, re, csv, codecs\n",
        "from sklearn.feature_extraction.text import TfidfTransformer"
      ],
      "execution_count": null,
      "outputs": []
    },
    {
      "cell_type": "code",
      "metadata": {
        "id": "z-ymDCg15OoN"
      },
      "source": [
        "# Removing stop words\n",
        "def get_stop_words(path):\n",
        "    #\"stop_words.txt\"\n",
        "    stop_words = []\n",
        "    with codecs.open(path, \"r\", encoding=\"utf-8\", errors=\"ignore\") as myfile:\n",
        "        stop_words = myfile.readlines()\n",
        "    stop_words = [word.strip() for word in stop_words]\n",
        "    return stop_words\n",
        "stop_words = get_stop_words('/content/stop_words_arabic.txt')\n",
        "\n",
        "from sklearn.pipeline import Pipeline\n",
        "text_clf = Pipeline([('vect', CountVectorizer(stop_words=stop_words)), ('tfidf', TfidfTransformer()), \n",
        "                     ('clf', MultinomialNB())])"
      ],
      "execution_count": null,
      "outputs": []
    },
    {
      "cell_type": "code",
      "metadata": {
        "id": "BEZ-cCxY9_0c"
      },
      "source": [
        "from sklearn.feature_extraction.text import CountVectorizer\n",
        "\n",
        "vect = CountVectorizer(max_features=1000, binary=True)\n",
        "\n",
        "X_train_vect = vect.fit_transform(X_train)"
      ],
      "execution_count": null,
      "outputs": []
    },
    {
      "cell_type": "code",
      "metadata": {
        "id": "yQll_REd-B9N"
      },
      "source": [
        "import math\n",
        "import random\n",
        "from collections import defaultdict\n",
        "from pprint import pprint\n",
        "\n",
        "# Prevent future/deprecation warnings from showing in output\n",
        "import warnings\n",
        "warnings.filterwarnings(action='ignore')\n",
        "\n",
        "import seaborn as sns\n",
        "import matplotlib.pyplot as plt\n",
        "import numpy as np\n"
      ],
      "execution_count": null,
      "outputs": []
    },
    {
      "cell_type": "code",
      "metadata": {
        "id": "kKNDipvh-FVm"
      },
      "source": [
        "from imblearn.over_sampling import SMOTE\n",
        "\n",
        "sm = SMOTE()\n",
        "\n",
        "X_train_res, y_train_res = sm.fit_sample(X_train_vect, y_train)"
      ],
      "execution_count": null,
      "outputs": []
    },
    {
      "cell_type": "code",
      "metadata": {
        "colab": {
          "base_uri": "https://localhost:8080/"
        },
        "id": "_xUg7tb--HZm",
        "outputId": "c10c1742-e64c-4550-8813-aafcf61393b9"
      },
      "source": [
        "unique, counts = np.unique(y_train_res, return_counts=True)\n",
        "print(list(zip(unique, counts)))"
      ],
      "execution_count": null,
      "outputs": [
        {
          "output_type": "stream",
          "text": [
            "[(0, 576), (1, 576), (2, 576)]\n"
          ],
          "name": "stdout"
        }
      ]
    },
    {
      "cell_type": "code",
      "metadata": {
        "colab": {
          "base_uri": "https://localhost:8080/"
        },
        "id": "OdoZJBWe-IFM",
        "outputId": "7a6bb09b-f6b9-4045-e398-15f9b035a3ae"
      },
      "source": [
        "#This is the fit score, and not the actual accuracy score\n",
        "from sklearn.naive_bayes import MultinomialNB\n",
        "\n",
        "nb = MultinomialNB()\n",
        "\n",
        "nb.fit(X_train_res, y_train_res)\n",
        "\n",
        "nb.score(X_train_res, y_train_res)"
      ],
      "execution_count": null,
      "outputs": [
        {
          "output_type": "execute_result",
          "data": {
            "text/plain": [
              "0.7546296296296297"
            ]
          },
          "metadata": {
            "tags": []
          },
          "execution_count": 124
        }
      ]
    },
    {
      "cell_type": "code",
      "metadata": {
        "colab": {
          "base_uri": "https://localhost:8080/"
        },
        "id": "uP-aUpoV-Lw7",
        "outputId": "3dafe0cd-d887-42f7-fa66-9a75fe39d5f8"
      },
      "source": [
        "X_test_vect = vect.transform(X_test)\n",
        "\n",
        "y_pred = nb.predict(X_test_vect)\n",
        "\n",
        "y_pred"
      ],
      "execution_count": null,
      "outputs": [
        {
          "output_type": "execute_result",
          "data": {
            "text/plain": [
              "array([1, 1, 0, 2, 2, 1, 1, 1, 2, 1, 2, 1, 1, 1, 1, 2, 1, 2, 1, 0, 1, 0,\n",
              "       1, 1, 2, 0, 2, 2, 0, 1, 1, 1, 1, 2, 2, 0, 2, 0, 0, 0, 1, 0, 1, 1,\n",
              "       0, 1, 0, 2, 1, 1, 0, 2, 2, 1, 0, 2, 2, 1, 2, 1, 1, 1, 2, 1, 1, 1,\n",
              "       2, 2, 1, 2, 1, 0, 1, 1, 1, 0, 1, 1, 2, 1, 1, 1, 2, 1, 2, 1, 2, 1,\n",
              "       1, 2, 1, 2, 1, 2, 1, 0, 1, 1, 1, 1, 1, 1, 1, 1, 2, 2, 2, 1, 0, 0,\n",
              "       1, 2, 1, 0, 1, 2, 1, 1, 1, 1, 1, 2, 0, 1, 1, 2, 1, 2, 1, 2, 1, 0,\n",
              "       2, 1, 1, 2, 1, 0, 2, 2, 1, 2, 1, 0, 0, 2, 2, 1, 1, 2, 0, 2, 2, 1,\n",
              "       1, 1, 1, 1, 2, 0, 1, 2, 1, 0, 1, 1, 1, 2, 0, 2, 1, 1, 1, 0, 1, 2,\n",
              "       1, 1, 1, 1, 2, 1, 2, 2, 1, 0, 1, 2, 1, 1, 1, 1, 1, 2, 1, 2, 1, 2,\n",
              "       1, 1, 2, 2, 1, 1, 2, 1, 1, 2, 1, 1, 2, 1, 1, 2, 1, 2, 1, 2, 0, 2,\n",
              "       2, 1, 1, 0, 0])"
            ]
          },
          "metadata": {
            "tags": []
          },
          "execution_count": 125
        }
      ]
    },
    {
      "cell_type": "code",
      "metadata": {
        "id": "zQHaNJopCNRF"
      },
      "source": [
        "from sklearn.metrics import accuracy_score, f1_score, precision_score, recall_score, classification_report, confusion_matrix"
      ],
      "execution_count": null,
      "outputs": []
    },
    {
      "cell_type": "code",
      "metadata": {
        "colab": {
          "base_uri": "https://localhost:8080/"
        },
        "id": "54vhFtnF-N0E",
        "outputId": "9b83a334-9efe-436d-db01-4728e7aaadb2"
      },
      "source": [
        "from sklearn.metrics import accuracy_score, f1_score, confusion_matrix\n",
        "\n",
        "clf= MultinomialNB()\n",
        "clf.fit(X_train_res, y_train_res)\n",
        "\n",
        "score = clf.score(X_train_res, y_train_res)\n",
        "print(\"score of Naive Bayes algo is :\" , score)\n",
        "\n",
        "y_pred = clf.predict(X_test_vect)\n",
        "print(confusion_matrix(y_test,y_pred))\n",
        "\n",
        "print(\"Precision Score : \",precision_score(y_test, y_pred, \n",
        "                                           average='micro'))\n",
        "print(\"Recall Score : \",recall_score(y_test, y_pred, \n",
        "                                           average='micro'))"
      ],
      "execution_count": null,
      "outputs": [
        {
          "output_type": "stream",
          "text": [
            "score of Naive Bayes algo is : 0.7546296296296297\n",
            "[[  6   0   9]\n",
            " [ 16 113  22]\n",
            " [ 12   8  39]]\n",
            "Precision Score :  0.7022222222222222\n",
            "Recall Score :  0.7022222222222222\n"
          ],
          "name": "stdout"
        }
      ]
    },
    {
      "cell_type": "code",
      "metadata": {
        "colab": {
          "base_uri": "https://localhost:8080/"
        },
        "id": "sprweUzl-OiS",
        "outputId": "23022091-35f2-4d18-8cc6-6acb2f4a57e5"
      },
      "source": [
        "from sklearn.metrics import classification_report, confusion_matrix, accuracy_score\n",
        "\n",
        "print(confusion_matrix(y_test,y_pred))\n",
        "print(classification_report(y_test,y_pred))\n",
        "print(accuracy_score(y_test,y_pred))"
      ],
      "execution_count": null,
      "outputs": [
        {
          "output_type": "stream",
          "text": [
            "[[ 11   1  11]\n",
            " [ 11 121  19]\n",
            " [  7   5  39]]\n",
            "              precision    recall  f1-score   support\n",
            "\n",
            "           0       0.38      0.48      0.42        23\n",
            "           1       0.95      0.80      0.87       151\n",
            "           2       0.57      0.76      0.65        51\n",
            "\n",
            "    accuracy                           0.76       225\n",
            "   macro avg       0.63      0.68      0.65       225\n",
            "weighted avg       0.81      0.76      0.77       225\n",
            "\n",
            "0.76\n"
          ],
          "name": "stdout"
        }
      ]
    },
    {
      "cell_type": "code",
      "metadata": {
        "id": "TGGPifwBDBa3"
      },
      "source": [
        "from sklearn.metrics import confusion_matrix, roc_auc_score, recall_score, precision_score\n"
      ],
      "execution_count": null,
      "outputs": []
    },
    {
      "cell_type": "code",
      "metadata": {
        "id": "404-HKA4-QS-"
      },
      "source": [
        "from itertools import product\n",
        "def plot_confusion_matrix(cm, classes, title='Confusion matrix', cmap=plt.cm.Blues):\n",
        "    cm = cm.astype('float') / cm.sum(axis=1)[:, numpy.newaxis]\n",
        "    print(cm)\n",
        "    plt.imshow(cm, interpolation='nearest', cmap=cmap)\n",
        "    plt.title(title)\n",
        "    plt.colorbar()\n",
        "    tick_marks = numpy.arange(len(classes))\n",
        "    plt.xticks(tick_marks, classes, rotation=45)\n",
        "    plt.yticks(tick_marks, classes)\n",
        "    fmt = '.2f'\n",
        "    thresh = cm.max() / 2.\n",
        "    for i, j in product(range(cm.shape[0]), range(cm.shape[1])):\n",
        "        plt.text(j, i, format(cm[i, j], fmt), horizontalalignment=\"center\", color=\"white\" if cm[i, j] > thresh else \"black\")\n",
        "    plt.ylabel('True')\n",
        "    plt.xlabel('Predicted')\n",
        "    plt.tight_layout()\n",
        "    plt.show()"
      ],
      "execution_count": null,
      "outputs": []
    },
    {
      "cell_type": "code",
      "metadata": {
        "colab": {
          "base_uri": "https://localhost:8080/",
          "height": 349
        },
        "id": "Ec30f54K-SjR",
        "outputId": "ab2cb1a1-ff9d-4bb3-a9a8-6d6c18246ded"
      },
      "source": [
        "import numpy\n",
        "class_labels = ['Positive', 'Negative', 'Neutral']\n",
        "cm = confusion_matrix(y_test,y_pred).T\n",
        "plot_confusion_matrix(cm, classes = class_labels)"
      ],
      "execution_count": null,
      "outputs": [
        {
          "output_type": "stream",
          "text": [
            "[[0.37931034 0.37931034 0.24137931]\n",
            " [0.00787402 0.95275591 0.03937008]\n",
            " [0.15942029 0.27536232 0.56521739]]\n"
          ],
          "name": "stdout"
        },
        {
          "output_type": "display_data",
          "data": {
            "image/png": "[encoded data removed]",
            "text/plain": [
              "<Figure size 432x288 with 2 Axes>"
            ]
          },
          "metadata": {
            "tags": [],
            "needs_background": "light"
          }
        }
      ]
    },
    {
      "cell_type": "code",
      "metadata": {
        "colab": {
          "base_uri": "https://localhost:8080/",
          "height": 508
        },
        "id": "cD9R_0Am-WAO",
        "outputId": "73fcfc5d-8c32-4311-c87b-c8da43e4ddcf"
      },
      "source": [
        "mat = confusion_matrix(y_test,y_pred)\n",
        "# Confusion Matrix\n",
        "print(mat)\n",
        "# Classification Report\n",
        "print(classification_report(y_test,y_pred))\n",
        "sns.heatmap(mat.T, square=True, annot=True, fmt='d', cbar=False, xticklabels = True, yticklabels = True)"
      ],
      "execution_count": null,
      "outputs": [
        {
          "output_type": "stream",
          "text": [
            "[[ 11   1  11]\n",
            " [ 11 121  19]\n",
            " [  7   5  39]]\n",
            "              precision    recall  f1-score   support\n",
            "\n",
            "           0       0.38      0.48      0.42        23\n",
            "           1       0.95      0.80      0.87       151\n",
            "           2       0.57      0.76      0.65        51\n",
            "\n",
            "    accuracy                           0.76       225\n",
            "   macro avg       0.63      0.68      0.65       225\n",
            "weighted avg       0.81      0.76      0.77       225\n",
            "\n"
          ],
          "name": "stdout"
        },
        {
          "output_type": "execute_result",
          "data": {
            "text/plain": [
              "<matplotlib.axes._subplots.AxesSubplot at 0x7f47fabf8990>"
            ]
          },
          "metadata": {
            "tags": []
          },
          "execution_count": 94
        },
        {
          "output_type": "display_data",
          "data": {
            "image/png": "[encoded data removed]",
            "text/plain": [
              "<Figure size 432x288 with 1 Axes>"
            ]
          },
          "metadata": {
            "tags": [],
            "needs_background": "light"
          }
        }
      ]
    }
  ]
}
