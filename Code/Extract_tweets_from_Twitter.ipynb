{
  "nbformat": 4,
  "nbformat_minor": 0,
  "metadata": {
    "colab": {
      "name": "Extract_tweets_from_Twitter.ipynb",
      "provenance": [],
      "authorship_tag": "ABX9TyMWny5RZsMPP8Qp87N0cCp3"
    },
    "kernelspec": {
      "name": "python3",
      "display_name": "Python 3"
    },
    "language_info": {
      "name": "python"
    }
  },
  "cells": [
    {
      "cell_type": "markdown",
      "metadata": {
        "id": "7mgmeVfDlnGC"
      },
      "source": [
        "**1-Import Required Libraries**"
      ]
    },
    {
      "cell_type": "code",
      "metadata": {
        "id": "jHKD4VSclgXG"
      },
      "source": [
        "import tweepy as tw # Python wrapper around Twitter API\n",
        "from google.colab import drive # to mount Drive to Colab notebook\n",
        "import json\n",
        "from csv import writer\n",
        "from datetime import date\n",
        "from datetime import datetime\n",
        "import time\n",
        "import oauth2client\n",
        "import nltk\n",
        "import pandas as pd\n",
        "import os\n",
        "#from twython import Twython"
      ],
      "execution_count": null,
      "outputs": []
    },
    {
      "cell_type": "markdown",
      "metadata": {
        "id": "cE1DsoNuloOE"
      },
      "source": [
        "**2-Extract tweets from Twitter**"
      ]
    },
    {
      "cell_type": "code",
      "metadata": {
        "colab": {
          "base_uri": "https://localhost:8080/"
        },
        "id": "hbNpRrpFlotX",
        "outputId": "ae901287-fb36-4b11-c469-31c6f4cdf7d8"
      },
      "source": [
        "from google.colab import drive\n",
        "drive.mount('/content/drive')"
      ],
      "execution_count": null,
      "outputs": [
        {
          "output_type": "stream",
          "text": [
            "Mounted at /content/drive\n"
          ],
          "name": "stdout"
        }
      ]
    },
    {
      "cell_type": "code",
      "metadata": {
        "id": "i3zK9F2Zl6Hf"
      },
      "source": [
        "!pip install unicode"
      ],
      "execution_count": null,
      "outputs": []
    },
    {
      "cell_type": "code",
      "metadata": {
        "id": "bG107cckl8Ph"
      },
      "source": [
        "\n",
        "CONSUMER_KEY =''\n",
        "CONSUMER_SECRET = ''\n",
        "ACCESS_TOKEN = ''\n",
        "ACCESS_TOKEN_SECRET = ''\n",
        "\n",
        "auth = tw.OAuthHandler(CONSUMER_KEY, CONSUMER_SECRET)\n",
        "auth.set_access_token(ACCESS_TOKEN, ACCESS_TOKEN_SECRET)\n",
        "api = tw.API(auth, wait_on_rate_limit=True)\n",
        "\n",
        "search_words =\"#لقاح_كورونا\"\n",
        "keyword_query=\"كورونا،كارونا،لقاح،جرعة،مرخص،اعراض،كوفيد١٩،تطعيم,اثار جانبية\"\n",
        "date_since = \"2021-03-17\"\n",
        "\n",
        "user_location=\"Saudi Arbia\"\n",
        "\n",
        "# Collect tweets\n",
        "tweets = tw.Cursor(api.search,\n",
        "              q=search_words,\n",
        "              keyword= keyword_query,\n",
        "              lang=\"ar\",\n",
        "              tweet_mode='extended',  \n",
        "              since=date_since).items(100000)\n",
        "tweets"
      ],
      "execution_count": null,
      "outputs": []
    },
    {
      "cell_type": "code",
      "metadata": {
        "id": "GHzefYhmmEN2"
      },
      "source": [
        "tweet_details =[[tweet.created_at,tweet.full_text,tweet.id\n",
        "]for tweet in tweets]\n",
        "tweet_details"
      ],
      "execution_count": null,
      "outputs": []
    },
    {
      "cell_type": "code",
      "metadata": {
        "id": "JZzxT186mHiV"
      },
      "source": [
        "# These are the column name that are selected to be stored in the csv\n",
        "tweet_df= pd.DataFrame(data=tweet_details,columns=['created_at','full_text','id'])\n",
        "pd.set_option('max_colwidth',800)\n",
        "tweet_df"
      ],
      "execution_count": null,
      "outputs": []
    },
    {
      "cell_type": "code",
      "metadata": {
        "id": "BkwPWPnjmuHM"
      },
      "source": [
        "#Creates the CSV file and write the tweets\n",
        "tweet_df.to_csv(\"/content/drive/MyDrive/Colab Notebooks/COVID19_tweet_data.csv\")"
      ],
      "execution_count": null,
      "outputs": []
    }
  ]
}