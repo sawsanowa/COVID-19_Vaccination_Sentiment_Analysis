{
  "nbformat": 4,
  "nbformat_minor": 0,
  "metadata": {
    "colab": {
      "name": "4 SVM",
      "provenance": [],
      "collapsed_sections": [],
      "authorship_tag": "ABX9TyMhfcKTg5UuvR9uc5+j3VQX"
    },
    "kernelspec": {
      "name": "python3",
      "display_name": "Python 3"
    },
    "language_info": {
      "name": "python"
    }
  },
  "cells": [
    {
      "cell_type": "code",
      "metadata": {
        "id": "_34GkET0ZWm0"
      },
      "source": [
        "#Loading the data set - training data.\n",
        "import sys, os, re, csv, codecs, numpy as np, pandas as pd\n",
        "from sklearn.datasets import fetch_20newsgroups\n",
        "from sklearn.model_selection import train_test_split\n",
        "from sklearn.feature_extraction.text import CountVectorizer\n",
        "from sklearn.feature_extraction.text import TfidfTransformer\n",
        "from sklearn.naive_bayes import MultinomialNB\n",
        "from sklearn.metrics import accuracy_score, f1_score, precision_score, recall_score, classification_report, confusion_matrix\n",
        "from gensim.models import KeyedVectors\n",
        "from sklearn.impute import SimpleImputer\n",
        "from nltk.tokenize import wordpunct_tokenize\n",
        "from sklearn.ensemble import RandomForestClassifier\n",
        "from sklearn.linear_model import SGDClassifier, LogisticRegressionCV\n",
        "from sklearn.svm import LinearSVC, NuSVC\n",
        "from sklearn.naive_bayes import GaussianNB\n",
        "from sklearn import metrics\n",
        "from sklearn.pipeline import Pipeline\n",
        "from sklearn.model_selection import GridSearchCV\n",
        "from keras.preprocessing.text import Tokenizer\n",
        "from keras.preprocessing.sequence import pad_sequences\n",
        "from keras.layers import Dense, Input, LSTM, Embedding, Dropout, Activation\n",
        "from keras.layers import Bidirectional, GlobalMaxPool1D\n",
        "from keras.models import Model\n",
        "from keras import initializers, regularizers, constraints, optimizers, layers"
      ],
      "execution_count": null,
      "outputs": []
    },
    {
      "cell_type": "code",
      "metadata": {
        "id": "xJuyb4wmZcAl"
      },
      "source": [
        "\n",
        "from bs4 import BeautifulSoup\n",
        "import matplotlib.pyplot as plt\n",
        "import seaborn as sns\n",
        "import nltk\n",
        "from nltk.corpus import stopwords\n",
        "from nltk.stem import SnowballStemmer\n",
        "from nltk.tokenize import TweetTokenizer\n",
        "#from sklearn.feature_extraction.text import CountVectorizer, TfidfTransformer\n",
        "from sklearn.linear_model import LogisticRegression\n",
        "from sklearn.svm import SVC\n",
        "from sklearn.model_selection import train_test_split, StratifiedKFold, cross_val_score\n",
        "from sklearn.pipeline import make_pipeline, Pipeline\n",
        "from sklearn.model_selection import GridSearchCV\n",
        "from sklearn.metrics import make_scorer, accuracy_score, f1_score\n",
        "from sklearn.metrics import roc_curve, auc\n",
        "from sklearn.metrics import confusion_matrix, roc_auc_score, recall_score, precision_score"
      ],
      "execution_count": null,
      "outputs": []
    },
    {
      "cell_type": "code",
      "metadata": {
        "id": "tD4Cm0zuZe4G"
      },
      "source": [
        "tweet=pd.read_csv('/content/Final_ALL_Labled_012.csv', encoding='utf-8', usecols=['sentiment', 'full_text'])"
      ],
      "execution_count": null,
      "outputs": []
    },
    {
      "cell_type": "code",
      "metadata": {
        "colab": {
          "base_uri": "https://localhost:8080/",
          "height": 202
        },
        "id": "DzNnxuqA9JXD",
        "outputId": "707b168a-e4fa-41e9-d1f3-54a7275d9985"
      },
      "source": [
        "tweet.head()"
      ],
      "execution_count": null,
      "outputs": [
        {
          "output_type": "execute_result",
          "data": {
            "text/html": [
              "<div>\n",
              "<style scoped>\n",
              "    .dataframe tbody tr th:only-of-type {\n",
              "        vertical-align: middle;\n",
              "    }\n",
              "\n",
              "    .dataframe tbody tr th {\n",
              "        vertical-align: top;\n",
              "    }\n",
              "\n",
              "    .dataframe thead th {\n",
              "        text-align: right;\n",
              "    }\n",
              "</style>\n",
              "<table border=\"1\" class=\"dataframe\">\n",
              "  <thead>\n",
              "    <tr style=\"text-align: right;\">\n",
              "      <th></th>\n",
              "      <th>sentiment</th>\n",
              "      <th>full_text</th>\n",
              "    </tr>\n",
              "  </thead>\n",
              "  <tbody>\n",
              "    <tr>\n",
              "      <th>0</th>\n",
              "      <td>1</td>\n",
              "      <td>بفضل الله قبل قليل وخلال ٩ دقاءق فقط اخذت لقاح...</td>\n",
              "    </tr>\n",
              "    <tr>\n",
              "      <th>1</th>\n",
              "      <td>0</td>\n",
              "      <td>لقاح كورونا اليوم مابدت الاعراض الا بعد ساعه م...</td>\n",
              "    </tr>\n",
              "    <tr>\n",
              "      <th>2</th>\n",
              "      <td>1</td>\n",
              "      <td>قبل موعد اخذي الجرعه الاولي من لقاح كورونا ظهر...</td>\n",
              "    </tr>\n",
              "    <tr>\n",
              "      <th>3</th>\n",
              "      <td>1</td>\n",
              "      <td>وخذينا الجرعه الاولي الحمدلله لقاح كورونا</td>\n",
              "    </tr>\n",
              "    <tr>\n",
              "      <th>4</th>\n",
              "      <td>1</td>\n",
              "      <td>اليوم اخذت الجرعه الاولي من لقاح كورونا عن طري...</td>\n",
              "    </tr>\n",
              "  </tbody>\n",
              "</table>\n",
              "</div>"
            ],
            "text/plain": [
              "   sentiment                                          full_text\n",
              "0          1  بفضل الله قبل قليل وخلال ٩ دقاءق فقط اخذت لقاح...\n",
              "1          0  لقاح كورونا اليوم مابدت الاعراض الا بعد ساعه م...\n",
              "2          1  قبل موعد اخذي الجرعه الاولي من لقاح كورونا ظهر...\n",
              "3          1          وخذينا الجرعه الاولي الحمدلله لقاح كورونا\n",
              "4          1  اليوم اخذت الجرعه الاولي من لقاح كورونا عن طري..."
            ]
          },
          "metadata": {
            "tags": []
          },
          "execution_count": 102
        }
      ]
    },
    {
      "cell_type": "code",
      "metadata": {
        "colab": {
          "base_uri": "https://localhost:8080/",
          "height": 297
        },
        "id": "UgUleL1x9J5U",
        "outputId": "2cfe6e20-7f3f-4856-e860-f7dc5d85fdd1"
      },
      "source": [
        "import seaborn as sns\n",
        "sns.countplot(x='sentiment', data=tweet)"
      ],
      "execution_count": null,
      "outputs": [
        {
          "output_type": "execute_result",
          "data": {
            "text/plain": [
              "<matplotlib.axes._subplots.AxesSubplot at 0x7fa9d7293790>"
            ]
          },
          "metadata": {
            "tags": []
          },
          "execution_count": 103
        },
        {
          "output_type": "display_data",
          "data": {
            "image/png": "[encoded data removed]",
            "text/plain": [
              "<Figure size 432x288 with 1 Axes>"
            ]
          },
          "metadata": {
            "tags": [],
            "needs_background": "light"
          }
        }
      ]
    },
    {
      "cell_type": "code",
      "metadata": {
        "colab": {
          "base_uri": "https://localhost:8080/"
        },
        "id": "B3yAHDcB9NsE",
        "outputId": "6b5e2b13-bb2d-46f6-c918-255dc28082aa"
      },
      "source": [
        "tweet.sentiment.value_counts()"
      ],
      "execution_count": null,
      "outputs": [
        {
          "output_type": "execute_result",
          "data": {
            "text/plain": [
              "1    727\n",
              "2    280\n",
              "0    116\n",
              "Name: sentiment, dtype: int64"
            ]
          },
          "metadata": {
            "tags": []
          },
          "execution_count": 104
        }
      ]
    },
    {
      "cell_type": "code",
      "metadata": {
        "colab": {
          "base_uri": "https://localhost:8080/"
        },
        "id": "xG9spjn09On2",
        "outputId": "7f566de9-fdf5-4fae-9293-fc8e815af747"
      },
      "source": [
        "from sklearn.model_selection import train_test_split\n",
        "\n",
        "X = tweet.full_text\n",
        "y = tweet.sentiment\n",
        "\n",
        "X_train, X_test, y_train, y_test = train_test_split(X, y, test_size=0.2)\n",
        "X_train.head()"
      ],
      "execution_count": null,
      "outputs": [
        {
          "output_type": "execute_result",
          "data": {
            "text/plain": [
              "847    من اعراض اللقاح حجز تذاكر السفر و بثقه كبيره ل...\n",
              "726    حساسيه البنسلين لا تعتبر مانعا لتلقي لقاح فاير...\n",
              "232    لكن كثيرا من الناس وخاصه الصبيان والمترفين يكر...\n",
              "794    ولله الحمد تم اخذ اليوم لقاح كورونا كوفيد شكرا...\n",
              "344    عندي سوال الحين اللقاح يعطونه للناس اللي ما جا...\n",
              "Name: full_text, dtype: object"
            ]
          },
          "metadata": {
            "tags": []
          },
          "execution_count": 105
        }
      ]
    },
    {
      "cell_type": "code",
      "metadata": {
        "colab": {
          "base_uri": "https://localhost:8080/"
        },
        "id": "SDUEGZxa9Q5N",
        "outputId": "b03b32a2-b6b3-41a2-a8f1-81cfd45c8782"
      },
      "source": [
        "len(X_test)"
      ],
      "execution_count": null,
      "outputs": [
        {
          "output_type": "execute_result",
          "data": {
            "text/plain": [
              "225"
            ]
          },
          "metadata": {
            "tags": []
          },
          "execution_count": 106
        }
      ]
    },
    {
      "cell_type": "code",
      "metadata": {
        "colab": {
          "base_uri": "https://localhost:8080/"
        },
        "id": "5cmxfbs59TBG",
        "outputId": "b71c0550-07df-4085-8760-6da090e39d9a"
      },
      "source": [
        "y_train.value_counts()"
      ],
      "execution_count": null,
      "outputs": [
        {
          "output_type": "execute_result",
          "data": {
            "text/plain": [
              "1    577\n",
              "2    227\n",
              "0     94\n",
              "Name: sentiment, dtype: int64"
            ]
          },
          "metadata": {
            "tags": []
          },
          "execution_count": 107
        }
      ]
    },
    {
      "cell_type": "code",
      "metadata": {
        "colab": {
          "base_uri": "https://localhost:8080/"
        },
        "id": "2Nl78kWv9W5p",
        "outputId": "3cd0a0d4-ca29-48b0-991f-561221ba1943"
      },
      "source": [
        "y_test.value_counts()"
      ],
      "execution_count": null,
      "outputs": [
        {
          "output_type": "execute_result",
          "data": {
            "text/plain": [
              "1    150\n",
              "2     53\n",
              "0     22\n",
              "Name: sentiment, dtype: int64"
            ]
          },
          "metadata": {
            "tags": []
          },
          "execution_count": 108
        }
      ]
    },
    {
      "cell_type": "code",
      "metadata": {
        "id": "cHb2ucOf9dQy"
      },
      "source": [
        "# Removing stop words\n",
        "def get_stop_words(path):\n",
        "    #\"stop_words.txt\"\n",
        "    stop_words = []\n",
        "    with codecs.open(path, \"r\", encoding=\"utf-8\", errors=\"ignore\") as myfile:\n",
        "        stop_words = myfile.readlines()\n",
        "    stop_words = [word.strip() for word in stop_words]\n",
        "    return stop_words\n",
        "stop_words = get_stop_words('/content/stop_words_arabic.txt')\n",
        "\n",
        "from sklearn.pipeline import Pipeline\n",
        "text_clf = Pipeline([('vect', CountVectorizer(stop_words=stop_words)), ('tfidf', TfidfTransformer()), \n",
        "                     ('clf', MultinomialNB())])"
      ],
      "execution_count": null,
      "outputs": []
    },
    {
      "cell_type": "code",
      "metadata": {
        "colab": {
          "base_uri": "https://localhost:8080/"
        },
        "id": "663eGa7a9gJU",
        "outputId": "3ed7b3d1-3df7-4708-e6cb-6525d2c8bffe"
      },
      "source": [
        "# Extracting features from text files\n",
        "count_vect = CountVectorizer(stop_words=stop_words)\n",
        "X_train_counts = count_vect.fit_transform(X_train)\n",
        "print('X_train_counts.shape', X_train_counts.shape)\n",
        "    # TF-IDF\n",
        "tfidf_transformer = TfidfTransformer()\n",
        "X_train_tfidf = tfidf_transformer.fit_transform(X_train_counts)\n",
        "print ('X_train_tfidf.shape',X_train_tfidf.shape)"
      ],
      "execution_count": null,
      "outputs": [
        {
          "output_type": "stream",
          "text": [
            "X_train_counts.shape (898, 5094)\n",
            "X_train_tfidf.shape (898, 5094)\n"
          ],
          "name": "stdout"
        }
      ]
    },
    {
      "cell_type": "code",
      "metadata": {
        "colab": {
          "base_uri": "https://localhost:8080/"
        },
        "id": "gBGn48Mh9g3c",
        "outputId": "52bafe41-0b65-47ff-8a90-2e5bd0a7055b"
      },
      "source": [
        "# Training Support Vector Machines - SVM and calculating its performance\n",
        "\n",
        "text_clf_svm = Pipeline([('vect', CountVectorizer()), ('tfidf', TfidfTransformer()),\n",
        "                         ('clf-svm', SGDClassifier(loss='hinge', penalty='l2',alpha=1e-3, random_state=42))])\n",
        "text_clf_svm = text_clf_svm.fit(X_train, y_train)\n",
        "predicted_svm = text_clf_svm.predict(X_test)\n",
        "print(np.mean(predicted_svm == y_test))\n",
        "\n",
        "predictions = text_clf_svm.predict(X_test)\n",
        "\n",
        "        # macro accuracy (macro average)\n",
        "\n",
        "        # precision and recall\n",
        "\n",
        "print(\"Precision Score : \",precision_score(y_test, predictions, \n",
        "                                           average='micro'))\n",
        "print(\"Recall Score : \",recall_score(y_test, predictions, \n",
        "                                           average='micro'))"
      ],
      "execution_count": null,
      "outputs": [
        {
          "output_type": "stream",
          "text": [
            "0.7733333333333333\n",
            "Precision Score :  0.7733333333333333\n",
            "Recall Score :  0.7733333333333333\n"
          ],
          "name": "stdout"
        }
      ]
    },
    {
      "cell_type": "code",
      "metadata": {
        "colab": {
          "base_uri": "https://localhost:8080/"
        },
        "id": "gxc1CQEC9k6f",
        "outputId": "c65ab502-ec56-469a-c2ad-d828e2c67431"
      },
      "source": [
        "from sklearn.metrics import classification_report, confusion_matrix, accuracy_score\n",
        "\n",
        "print(confusion_matrix(y_test,predictions))\n",
        "print(classification_report(y_test,predictions))\n",
        "print(accuracy_score(y_test,predictions))"
      ],
      "execution_count": null,
      "outputs": [
        {
          "output_type": "stream",
          "text": [
            "[[  5  10   7]\n",
            " [  3 137  10]\n",
            " [  2  19  32]]\n",
            "              precision    recall  f1-score   support\n",
            "\n",
            "           0       0.50      0.23      0.31        22\n",
            "           1       0.83      0.91      0.87       150\n",
            "           2       0.65      0.60      0.63        53\n",
            "\n",
            "    accuracy                           0.77       225\n",
            "   macro avg       0.66      0.58      0.60       225\n",
            "weighted avg       0.75      0.77      0.76       225\n",
            "\n",
            "0.7733333333333333\n"
          ],
          "name": "stdout"
        }
      ]
    },
    {
      "cell_type": "code",
      "metadata": {
        "id": "c4XVo0Q-9nBV"
      },
      "source": [
        "def plot_confusion_matrix(cm, classes, title='Confusion matrix', cmap=plt.cm.Blues):\n",
        "    cm = cm.astype('float') / cm.sum(axis=1)[:, numpy.newaxis]\n",
        "    print(cm)\n",
        "    plt.imshow(cm, interpolation='nearest', cmap=plt.cm.Oranges)\n",
        "    plt.title(title)\n",
        "    plt.colorbar()\n",
        "    tick_marks = numpy.arange(len(classes))\n",
        "    plt.xticks(tick_marks, classes, rotation=45)\n",
        "    plt.yticks(tick_marks, classes)\n",
        "    fmt = '.2f'\n",
        "    thresh = cm.max() / 2.\n",
        "    for i, j in itertools.product(range(cm.shape[0]), range(cm.shape[1])):\n",
        "        plt.text(j, i, format(cm[i, j], fmt), horizontalalignment=\"center\", color=\"white\" if cm[i, j] > thresh else \"black\")\n",
        "    plt.ylabel('True')\n",
        "    plt.xlabel('Predicted')\n",
        "    plt.tight_layout()\n",
        "    plt.show()"
      ],
      "execution_count": null,
      "outputs": []
    },
    {
      "cell_type": "code",
      "metadata": {
        "colab": {
          "base_uri": "https://localhost:8080/",
          "height": 349
        },
        "id": "MbVY26rk9pqx",
        "outputId": "a12d83a7-7c2f-4630-c39e-21de42c6c496"
      },
      "source": [
        "import numpy\n",
        "import itertools\n",
        "class_labels = ['Positive', 'Negative', 'Neutral']\n",
        "cm = confusion_matrix(y_test,predictions).T\n",
        "plot_confusion_matrix(cm, classes = class_labels)"
      ],
      "execution_count": null,
      "outputs": [
        {
          "output_type": "stream",
          "text": [
            "[[0.5        0.3        0.2       ]\n",
            " [0.06024096 0.8253012  0.11445783]\n",
            " [0.14285714 0.20408163 0.65306122]]\n"
          ],
          "name": "stdout"
        },
        {
          "output_type": "display_data",
          "data": {
            "image/png": "[encoded data removed]",
            "text/plain": [
              "<Figure size 432x288 with 2 Axes>"
            ]
          },
          "metadata": {
            "tags": [],
            "needs_background": "light"
          }
        }
      ]
    }
  ]
}
